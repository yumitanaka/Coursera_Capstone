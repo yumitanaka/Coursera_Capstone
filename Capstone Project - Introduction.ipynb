{
 "cells": [
  {
   "cell_type": "markdown",
   "metadata": {},
   "source": [
    "# Simplifying your house hunting in London"
   ]
  },
  {
   "cell_type": "markdown",
   "metadata": {},
   "source": [
    "<hr>"
   ]
  },
  {
   "cell_type": "markdown",
   "metadata": {},
   "source": [
    "## Introduction"
   ]
  },
  {
   "cell_type": "markdown",
   "metadata": {},
   "source": [
    "House hunting in London is one of the most stressful things you can do in the UK.<br>\n",
    "Where you live in London will have a huge impact on the amount of money you need to spend on purchasing or renting a property.  For instance, properties in the most prestigious addresses, such as central London, Kensington, Chelsea or the Docklands can’t be found for much less than six figures (purchase price).  However, if you move to some of the outer areas of London, then property prices become much more affordable.<br>\n",
    "Wherever you choose to live in London you’ll be well serviced by the excellent public transport system. The underground train system, known as ‘The Tube’ covers the whole of the city.  And although it can get crowded during the rush to and from work in morning and evening, in general it’s pleasant, safe and efficient to use.<br>\n",
    "This means that it’s perfectly feasible to choose to live in the outer reaches of London – even in the open spaces of leafy suburbs such as Richmond, Kew, Blackheath or Harrow – and still be able to commute into central London easily and quickly.<br>\n",
    "\n",
    "Websites like Zoopla and Rightmove help you out searching your house but narrowing down the area to look for is a manual task and they don't show the attractions nearby or the neighborhood distinct areas.<br>\n",
    "To search for the house according to your preferences about the neighborhood, you'll need to browse the internet and find informations by yourself. It is a consuming and tiring process.<br>\n",
    "\n",
    "To help with this process, this project was made to people who are searching for a new house to identify or narrow down the search for the house according to the preferences about the neighborhood.\n",
    "The focus is to provide relevant and quality information to be used for a decision when choosing the best residence to live in.<br>\n",
    "\n",
    "<i>*The project works specifically with the Lewisham council in London to simplify and give the overview of the project. The full coverage of London can be applied in a future project. "
   ]
  }
 ],
 "metadata": {
  "kernelspec": {
   "display_name": "Python 3",
   "language": "python",
   "name": "python3"
  },
  "language_info": {
   "codemirror_mode": {
    "name": "ipython",
    "version": 3
   },
   "file_extension": ".py",
   "mimetype": "text/x-python",
   "name": "python",
   "nbconvert_exporter": "python",
   "pygments_lexer": "ipython3",
   "version": "3.6.6"
  }
 },
 "nbformat": 4,
 "nbformat_minor": 2
}
