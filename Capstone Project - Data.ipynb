{
 "cells": [
  {
   "cell_type": "markdown",
   "metadata": {},
   "source": [
    "# Simplifying your house hunting in London"
   ]
  },
  {
   "cell_type": "markdown",
   "metadata": {},
   "source": [
    "<hr>"
   ]
  },
  {
   "cell_type": "markdown",
   "metadata": {},
   "source": [
    "## Data"
   ]
  },
  {
   "cell_type": "markdown",
   "metadata": {},
   "source": [
    "Two datasets are used for the project:"
   ]
  },
  {
   "cell_type": "markdown",
   "metadata": {},
   "source": [
    "<b>1 - London Lewisham council postcodes </b>\n",
    "\n",
    "The data that contains all postcodes present in the Lewisham council in London is downloaded from <a href=\"https://www.doogal.co.uk/AdministrativeAreas.php?district=E09000023\">doogal.co.uk</a>. In this dataset, the mainly focus is the Lee Green ward to minimize the calls to Four square API.\n",
    "\n",
    "Lewisham council postcodes data has many columns out of which only Postcode, Longitude, Latitude and Ward of the postcode are of our interest. Snapshot of the data is shown below:"
   ]
  },
  {
   "cell_type": "code",
   "execution_count": 3,
   "metadata": {},
   "outputs": [
    {
     "data": {
      "text/html": [
       "<div>\n",
       "<style scoped>\n",
       "    .dataframe tbody tr th:only-of-type {\n",
       "        vertical-align: middle;\n",
       "    }\n",
       "\n",
       "    .dataframe tbody tr th {\n",
       "        vertical-align: top;\n",
       "    }\n",
       "\n",
       "    .dataframe thead th {\n",
       "        text-align: right;\n",
       "    }\n",
       "</style>\n",
       "<table border=\"1\" class=\"dataframe\">\n",
       "  <thead>\n",
       "    <tr style=\"text-align: right;\">\n",
       "      <th></th>\n",
       "      <th>Postcode</th>\n",
       "      <th>In Use?</th>\n",
       "      <th>Latitude</th>\n",
       "      <th>Longitude</th>\n",
       "      <th>Easting</th>\n",
       "      <th>Northing</th>\n",
       "      <th>Grid Ref</th>\n",
       "      <th>Ward</th>\n",
       "      <th>Parish</th>\n",
       "      <th>Introduced</th>\n",
       "      <th>Terminated</th>\n",
       "      <th>Altitude</th>\n",
       "      <th>Country</th>\n",
       "      <th>Last Updated</th>\n",
       "      <th>Quality</th>\n",
       "    </tr>\n",
       "  </thead>\n",
       "  <tbody>\n",
       "    <tr>\n",
       "      <th>0</th>\n",
       "      <td>BR1 4BY</td>\n",
       "      <td>Yes</td>\n",
       "      <td>51.417289</td>\n",
       "      <td>-0.001741</td>\n",
       "      <td>539050</td>\n",
       "      <td>170591</td>\n",
       "      <td>TQ390705</td>\n",
       "      <td>Downham</td>\n",
       "      <td>Lewisham, unparished area</td>\n",
       "      <td>1980-01-01</td>\n",
       "      <td>NaN</td>\n",
       "      <td>35</td>\n",
       "      <td>England</td>\n",
       "      <td>2018-11-15</td>\n",
       "      <td>Within the building of the matched address clo...</td>\n",
       "    </tr>\n",
       "    <tr>\n",
       "      <th>1</th>\n",
       "      <td>BR1 4DN</td>\n",
       "      <td>Yes</td>\n",
       "      <td>51.418996</td>\n",
       "      <td>-0.002156</td>\n",
       "      <td>539016</td>\n",
       "      <td>170780</td>\n",
       "      <td>TQ390707</td>\n",
       "      <td>Downham</td>\n",
       "      <td>Lewisham, unparished area</td>\n",
       "      <td>1980-01-01</td>\n",
       "      <td>NaN</td>\n",
       "      <td>35</td>\n",
       "      <td>England</td>\n",
       "      <td>2018-11-15</td>\n",
       "      <td>Within the building of the matched address clo...</td>\n",
       "    </tr>\n",
       "    <tr>\n",
       "      <th>2</th>\n",
       "      <td>BR1 4EY</td>\n",
       "      <td>Yes</td>\n",
       "      <td>51.418477</td>\n",
       "      <td>0.005042</td>\n",
       "      <td>539518</td>\n",
       "      <td>170736</td>\n",
       "      <td>TQ395707</td>\n",
       "      <td>Downham</td>\n",
       "      <td>Lewisham, unparished area</td>\n",
       "      <td>1980-01-01</td>\n",
       "      <td>NaN</td>\n",
       "      <td>50</td>\n",
       "      <td>England</td>\n",
       "      <td>2018-11-15</td>\n",
       "      <td>Within the building of the matched address clo...</td>\n",
       "    </tr>\n",
       "    <tr>\n",
       "      <th>3</th>\n",
       "      <td>BR1 4FD</td>\n",
       "      <td>Yes</td>\n",
       "      <td>51.421083</td>\n",
       "      <td>-0.002194</td>\n",
       "      <td>539007</td>\n",
       "      <td>171012</td>\n",
       "      <td>TQ390710</td>\n",
       "      <td>Downham</td>\n",
       "      <td>Lewisham, unparished area</td>\n",
       "      <td>2010-01-01</td>\n",
       "      <td>NaN</td>\n",
       "      <td>33</td>\n",
       "      <td>England</td>\n",
       "      <td>2018-11-15</td>\n",
       "      <td>Within the building of the matched address clo...</td>\n",
       "    </tr>\n",
       "    <tr>\n",
       "      <th>4</th>\n",
       "      <td>BR1 4JG</td>\n",
       "      <td>Yes</td>\n",
       "      <td>51.419403</td>\n",
       "      <td>-0.000728</td>\n",
       "      <td>539114</td>\n",
       "      <td>170828</td>\n",
       "      <td>TQ391708</td>\n",
       "      <td>Downham</td>\n",
       "      <td>Lewisham, unparished area</td>\n",
       "      <td>1980-01-01</td>\n",
       "      <td>NaN</td>\n",
       "      <td>40</td>\n",
       "      <td>England</td>\n",
       "      <td>2018-11-15</td>\n",
       "      <td>Within the building of the matched address clo...</td>\n",
       "    </tr>\n",
       "  </tbody>\n",
       "</table>\n",
       "</div>"
      ],
      "text/plain": [
       "  Postcode In Use?   Latitude  Longitude  Easting  Northing  Grid Ref  \\\n",
       "0  BR1 4BY     Yes  51.417289  -0.001741   539050    170591  TQ390705   \n",
       "1  BR1 4DN     Yes  51.418996  -0.002156   539016    170780  TQ390707   \n",
       "2  BR1 4EY     Yes  51.418477   0.005042   539518    170736  TQ395707   \n",
       "3  BR1 4FD     Yes  51.421083  -0.002194   539007    171012  TQ390710   \n",
       "4  BR1 4JG     Yes  51.419403  -0.000728   539114    170828  TQ391708   \n",
       "\n",
       "      Ward                     Parish  Introduced Terminated  Altitude  \\\n",
       "0  Downham  Lewisham, unparished area  1980-01-01        NaN        35   \n",
       "1  Downham  Lewisham, unparished area  1980-01-01        NaN        35   \n",
       "2  Downham  Lewisham, unparished area  1980-01-01        NaN        50   \n",
       "3  Downham  Lewisham, unparished area  2010-01-01        NaN        33   \n",
       "4  Downham  Lewisham, unparished area  1980-01-01        NaN        40   \n",
       "\n",
       "   Country Last Updated                                            Quality  \n",
       "0  England   2018-11-15  Within the building of the matched address clo...  \n",
       "1  England   2018-11-15  Within the building of the matched address clo...  \n",
       "2  England   2018-11-15  Within the building of the matched address clo...  \n",
       "3  England   2018-11-15  Within the building of the matched address clo...  \n",
       "4  England   2018-11-15  Within the building of the matched address clo...  "
      ]
     },
     "execution_count": 3,
     "metadata": {},
     "output_type": "execute_result"
    }
   ],
   "source": [
    "import pandas as pd\n",
    "link = 'https://www.doogal.co.uk/AdministrativeAreasCSV.ashx?district=E09000023' \n",
    "Lewisham_Data = pd.read_csv(link)\n",
    "Lewisham_Data.head()"
   ]
  },
  {
   "cell_type": "markdown",
   "metadata": {},
   "source": [
    "<b>2 - Foursquare location data</b> \n",
    "\n",
    "The Foursquare API enables developers to build applications that interact with the Foursquare platform.\n",
    "Venues data will be used in collaboration with the above dataset."
   ]
  },
  {
   "cell_type": "markdown",
   "metadata": {},
   "source": [
    "FourSquare API has a rate limit for explore api of 99.500 regular calls/day when using the Personal Account, so that's the reason why to focus on only Lee Green part of the Lewisham."
   ]
  },
  {
   "cell_type": "markdown",
   "metadata": {},
   "source": [
    "## Methodology"
   ]
  },
  {
   "cell_type": "markdown",
   "metadata": {},
   "source": [
    "The methodology is divided into three main parts, data wrangling/cleansing, exploratory analysis and machine learning.\n",
    "\n",
    "<b>1 - Data Wrangling/Cleansing:</b>\n",
    "\n",
    "Data obtained from Doogle for Lewisham council are concentrated on few columns only (Postcode, Latitude, Longitude and Ward). To obtain uniqueness on the different location, every postcode in Lewisham is divided into two major parts, District and Sector. A new column which contain Sectors is created and added the new column to the cleansed data. The data for Lee Green ward is filtered to minimize the calls to Four square API.\n",
    "\n",
    "<b>2 - Exploratory Analysis:</b>\n",
    "\n",
    "Lewisham data has 18 unique wards. It is filtered on a single ward as a point of interest namely Lee Green. As explained in the cleansing step that postcode is comprised of two components, district and sector. \n",
    "\n",
    "All the sectors are plotted on the map and then five different clusters based on the venue categories provided by Foursquare API data are created and then, the top five venues in each sector can be explored."
   ]
  },
  {
   "cell_type": "markdown",
   "metadata": {},
   "source": [
    "Since the objective is to ease the search for people who have preferences in terms of nearby venues, the project tries to explore all the sectors under Lee Green ward using Foursquare API and obtain multiple venues names, their geographical coordinates and category for each sector within 500m radius and put a limit on the number of venues as 100 for each sector.\n",
    "\n",
    "\n",
    "<b>3 - Machine Learning:</b>\n",
    "\n",
    "K-means Clustering is used for the project after the exploratory analysis to categorise postcodes into different homogenous clusters based on the venue categories. It will segment the data into groups where groups are similar among themselves but different from other groups in terms of occurence of venue categories. \n",
    "For the dataset, K-means Clustering will append another column to the dataset which will depict the cluster number, similar sectors will be grouped together."
   ]
  }
 ],
 "metadata": {
  "kernelspec": {
   "display_name": "Python 3",
   "language": "python",
   "name": "python3"
  },
  "language_info": {
   "codemirror_mode": {
    "name": "ipython",
    "version": 3
   },
   "file_extension": ".py",
   "mimetype": "text/x-python",
   "name": "python",
   "nbconvert_exporter": "python",
   "pygments_lexer": "ipython3",
   "version": "3.6.6"
  }
 },
 "nbformat": 4,
 "nbformat_minor": 2
}
